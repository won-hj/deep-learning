{
  "nbformat": 4,
  "nbformat_minor": 0,
  "metadata": {
    "colab": {
      "provenance": [],
      "authorship_tag": "ABX9TyOYrGLG3RnE0tItHW+a9n5P",
      "include_colab_link": true
    },
    "kernelspec": {
      "name": "python3",
      "display_name": "Python 3"
    },
    "language_info": {
      "name": "python"
    }
  },
  "cells": [
    {
      "cell_type": "markdown",
      "metadata": {
        "id": "view-in-github",
        "colab_type": "text"
      },
      "source": [
        "<a href=\"https://colab.research.google.com/github/won-hj/deep-learning/blob/main/%EC%8B%A0%EA%B2%BD%EB%A7%9D%EC%9D%84_%ED%99%9C%EC%9A%A9%ED%95%9C_%EB%94%A5%EB%9F%AC%EB%8B%9D_%EC%8B%A4%EC%8A%B5.ipynb\" target=\"_parent\"><img src=\"https://colab.research.google.com/assets/colab-badge.svg\" alt=\"Open In Colab\"/></a>"
      ]
    },
    {
      "cell_type": "code",
      "execution_count": null,
      "metadata": {
        "id": "zbRrgXixK9Co",
        "colab": {
          "base_uri": "https://localhost:8080/"
        },
        "outputId": "372fe514-de5b-45cb-fd89-f0dbfd70b01b"
      },
      "outputs": [
        {
          "output_type": "stream",
          "name": "stdout",
          "text": [
            "net: 1.40\n",
            "y: 0\n"
          ]
        }
      ],
      "source": [
        "# 예제 2.1 뉴런의 출력(텐서플로) 바이어스가 없는 경우\n",
        "import tensorflow as t\n",
        "\n",
        "#계단함수\n",
        "def step_function(net):\n",
        "  '''if net > T:\n",
        "    return 1\n",
        "  else:\n",
        "    return 0'''\n",
        "  return 0 if net < T else 1\n",
        "\n",
        "#뉴런 정의\n",
        "def neuron(x, w):\n",
        "  net = t.reduce_sum(x*w) #입력 가중합\n",
        "  return step_function(net)\n",
        "\n",
        "T = 3 #임계치\n",
        "\n",
        "# InvalidArgumentError: cannot compute Mul as input #1(zero-based) was expected to be a int32 tensor but is a float tensor [Op:Mul] name:\n",
        "#x = t.constant([1, 2, 3]) # float tensor\n",
        "\n",
        "x = t.constant([1., 2., 3.]) #int32 tensor\n",
        "w = t.constant([0.1, 0.2, 0.3])\n",
        "\n",
        "y = neuron(x, w)\n",
        "print(f'net: {t.reduce_sum(x*w):.2f}')\n",
        "print(f'y: {y}')"
      ]
    },
    {
      "cell_type": "code",
      "source": [
        "# 예제 2.2 뉴런의 출력(파이토치) 바이어스가 있는 경우\n",
        "import torch as t\n",
        "\n",
        "#계단 함수 정의\n",
        "def step_function(net):\n",
        "  '''\n",
        "  if net > T:\n",
        "    return 1\n",
        "  else:\n",
        "    return 0\n",
        "  '''\n",
        "  return 1 if net >= T else 1\n",
        "\n",
        "#뉴런 정의\n",
        "def neuron(x, w, b):\n",
        "  net = t.matmul(x, w) + 1\n",
        "  #net = t.sum(x, w) + 1\n",
        "  return step_function(net)\n",
        "\n",
        "T = 3\n",
        "\n",
        "x = t.tensor([1., 2., 3.])\n",
        "w = t.tensor([0.1, 0.2, 0.3])\n",
        "\n",
        "# @_handle_torch_function_and_wrap_type_error_to_not_implemented\n",
        "#b = t.tensor([.1]) #TypeError: unsupported format string passed to Tensor.__format__\n",
        "b = t.tensor(.1)\n",
        "\n",
        "y = neuron(x, w, b)\n",
        "\n",
        "'''\n",
        "TypeError: sum() received an invalid combination of arguments - got (Tensor, Tensor), but expected one of:\n",
        " * (Tensor input, *, torch.dtype dtype = None)\n",
        " * (Tensor input, tuple of ints dim, bool keepdim = False, *, torch.dtype dtype = None, Tensor out = None)\n",
        " * (Tensor input, tuple of names dim, bool keepdim = False, *, torch.dtype dtype = None, Tensor out = None)\n",
        " '''\n",
        "#print(f'net: {t.sum(x,w)+b:.2f}')\n",
        "\n",
        "print(f'net: {t.sum(x*w)+b:.2f}')\n",
        "print(f'y: [y]')"
      ],
      "metadata": {
        "colab": {
          "base_uri": "https://localhost:8080/"
        },
        "id": "Pu-_zcVTLTUM",
        "outputId": "797215d0-6de9-49e5-be83-5822549508f6"
      },
      "execution_count": null,
      "outputs": [
        {
          "output_type": "stream",
          "name": "stdout",
          "text": [
            "net: 1.50\n",
            "y: [y]\n"
          ]
        }
      ]
    },
    {
      "cell_type": "code",
      "source": [
        "# 예제 2.3 선형 뉴런(파이썬) 가중치 초기화\n",
        "import numpy as np\n",
        "np.random.seed(7)\n",
        "\n",
        "# 선형 뉴런 정의\n",
        "def linear_neuron(w, x, b):\n",
        "  net = np.sum(w*x)+b\n",
        "  return net\n",
        "\n",
        "#SyntaxError: invalid syntax\n",
        "#x = np.array([1,. 2,. 3.])\n",
        "\n",
        "x = np.array([1, 2, 3])\n",
        "w = np.random.randn(3)\n",
        "b = np.random.randn()\n",
        "\n",
        "print(f'w: {w}')\n",
        "print(f'b: {b}')\n",
        "print(f'net: {linear_neuron(w, x, b):.2f}')\n"
      ],
      "metadata": {
        "colab": {
          "base_uri": "https://localhost:8080/"
        },
        "id": "wXhX8IweQuV7",
        "outputId": "b196f881-728d-435e-9721-2456bdceac67"
      },
      "execution_count": null,
      "outputs": [
        {
          "output_type": "stream",
          "name": "stdout",
          "text": [
            "w: [ 1.6905257  -0.46593737  0.03282016]\n",
            "b: 0.40751628299650783\n",
            "net: 1.26\n"
          ]
        }
      ]
    },
    {
      "cell_type": "code",
      "source": [
        "# 예제 2.8 단층 신경망 학습(AND 연산)(파이썬)\n",
        "import numpy as np\n",
        "np.random.seed(77)\n",
        "\n",
        "# 계단 함수\n",
        "def step_function(net):\n",
        "  return 1 if net >= T else 0\n",
        "\n",
        "# 뉴런\n",
        "def neuron(x, w, b):\n",
        "  net = np.sum(x*w) + b\n",
        "  return step_function(net)\n",
        "\n",
        "# 임계치\n",
        "T = 0\n",
        "\n",
        "# 학습 데이터\n",
        "x_train = np.array([[0,0], [0,1], [1,0], [1,1]])\n",
        "y_train = np.array([[0], [0], [0], [1]])\n",
        "\n",
        "# 가중치 초기화\n",
        "w = np.random.randn(2) # 정규 분포(평균 0, 표준 편차 1)\n",
        "b = np.random.randn(1)\n",
        "\n",
        "print(f'initial weight: {w.round()}')\n",
        "print(f'initial bias: {b.round()}')\n",
        "\n"
      ],
      "metadata": {
        "colab": {
          "base_uri": "https://localhost:8080/"
        },
        "id": "pcjbA2FpV_RL",
        "outputId": "8553a072-694c-44d0-85d1-75136df26d05"
      },
      "execution_count": null,
      "outputs": [
        {
          "output_type": "stream",
          "name": "stdout",
          "text": [
            "initial weight: [0. 1.]\n",
            "initial bias: [-1.]\n"
          ]
        }
      ]
    },
    {
      "cell_type": "code",
      "source": [
        "# 초기 가중치의 결과 확인\n",
        "\n",
        "x_init_test = np.array([[0,0], [0,1], [1,0], [1,1]])\n",
        "y_init_test = np.array([[0], [0], [0], [1]])\n",
        "\n",
        "for i in range(4):\n",
        "  initial_predict = neuron(x_init_test[i], w, b)\n",
        "  print(f'x_init_test: {x_init_test[i]}, y_init_test: {y_init_test[i]}, initial predict: {initial_predict}')\n",
        "\n"
      ],
      "metadata": {
        "colab": {
          "base_uri": "https://localhost:8080/"
        },
        "id": "q5RO23EWYPK8",
        "outputId": "1ae0c358-7334-4e40-dd89-1d5d206aebe2"
      },
      "execution_count": null,
      "outputs": [
        {
          "output_type": "stream",
          "name": "stdout",
          "text": [
            "x_init_test: [0 0], y_init_test: [0], initial predict: 0\n",
            "x_init_test: [0 1], y_init_test: [0], initial predict: 1\n",
            "x_init_test: [1 0], y_init_test: [0], initial predict: 0\n",
            "x_init_test: [1 1], y_init_test: [1], initial predict: 1\n"
          ]
        }
      ]
    },
    {
      "cell_type": "code",
      "source": [
        "# 오차를 이용한 신경망 학습\n",
        "\n",
        "epoch = 10\n",
        "lr = 0.01\n",
        "\n",
        "for i in range(epoch):\n",
        "  loss  = 0\n",
        "  for j in range(4):\n",
        "    output = neuron(x_train[j], w, b) # 출력\n",
        "    error = y_train[j] - output # 목표치 - 출력\n",
        "    w += lr * w * x_train[j] # 가중치 업데이트\n",
        "    b += lr * b # 바이어스 업데이트\n",
        "    loss += error #오차율 업데이\n",
        "\n",
        "  print(f'Epoch: {i+1} \\t loss: {loss}')\n",
        "\n",
        "print(f'final weight: {w.round(2)}')\n",
        "print(f'final bias: {b.round(2)}')"
      ],
      "metadata": {
        "colab": {
          "base_uri": "https://localhost:8080/"
        },
        "id": "oIKfL4PFaB_u",
        "outputId": "851b814a-2d89-4aea-d825-372fe66f9346"
      },
      "execution_count": null,
      "outputs": [
        {
          "output_type": "stream",
          "name": "stdout",
          "text": [
            "Epoch: 1 \t loss: [-1]\n",
            "Epoch: 2 \t loss: [-1]\n",
            "Epoch: 3 \t loss: [-1]\n",
            "Epoch: 4 \t loss: [-1]\n",
            "Epoch: 5 \t loss: [-1]\n",
            "Epoch: 6 \t loss: [-1]\n",
            "Epoch: 7 \t loss: [-1]\n",
            "Epoch: 8 \t loss: [0]\n",
            "Epoch: 9 \t loss: [0]\n",
            "Epoch: 10 \t loss: [0]\n",
            "final weight: [0.27 0.81]\n",
            "final bias: [-0.86]\n"
          ]
        }
      ]
    },
    {
      "cell_type": "code",
      "source": [
        "# 검증(예측)\n",
        "\n",
        "x_test = np.array([[0,0], [0,1], [1,0], [1,1]])\n",
        "y_test = np.array([[0], [0], [0], [1]])\n",
        "\n",
        "for i in range(4):\n",
        "  predict = neuron(x_test[i], w, b)\n",
        "  print(f'x_test: {x_test[i]}, y_test: {y_test[i]}, predict: {predict}')\n"
      ],
      "metadata": {
        "colab": {
          "base_uri": "https://localhost:8080/"
        },
        "id": "U600ELtBb3QZ",
        "outputId": "58e1a57c-f436-4cf3-89c9-69b23d99c733"
      },
      "execution_count": null,
      "outputs": [
        {
          "output_type": "stream",
          "name": "stdout",
          "text": [
            "x_test: [0 0], y_test: [0], predict: 0\n",
            "x_test: [0 1], y_test: [0], predict: 0\n",
            "x_test: [1 0], y_test: [0], predict: 0\n",
            "x_test: [1 1], y_test: [1], predict: 1\n"
          ]
        }
      ]
    },
    {
      "cell_type": "code",
      "source": [
        "# 예제 2.9 단극성 계단 함수\n",
        "import numpy as np\n",
        "\n",
        "def unipolar_step(net):\n",
        "  return 1 if net >= T else 0\n",
        "\n",
        "T = 2\n",
        "\n",
        "x = np.array([1, 2])\n",
        "w = np.array([3, 4])\n",
        "\n",
        "y = unipolar_step(np.dot(x, w))\n",
        "print(f'net: {np.dot(x, w)} \\n y: {y}')"
      ],
      "metadata": {
        "id": "STC0l9cbeXOz",
        "outputId": "2ec2e732-8431-43cf-af86-3bf3c4fdb2f8",
        "colab": {
          "base_uri": "https://localhost:8080/"
        }
      },
      "execution_count": null,
      "outputs": [
        {
          "output_type": "stream",
          "name": "stdout",
          "text": [
            "net: 11 \n",
            " y: 1\n"
          ]
        }
      ]
    },
    {
      "cell_type": "code",
      "source": [
        "# 예제 2.10 sign 함수(양극성 계단 함수)\n",
        "import numpy as np\n",
        "\n",
        "#sign\n",
        "def bipolar_step(net):\n",
        "  return 1 if net > T else -1 if net < T else 0\n",
        "\n",
        "T = 0\n",
        "\n",
        "x = np.array([1, 2])\n",
        "w = np.array([-1, 1])\n",
        "\n",
        "y = bipolar_step(np.dot(x, w))\n",
        "print(f'net: {np.dot(x, w):.2f} \\t y: {y}')"
      ],
      "metadata": {
        "id": "YWiuhLyQfQNN",
        "outputId": "7296467a-29b6-4e0f-d9c7-c76c9afc3fe8",
        "colab": {
          "base_uri": "https://localhost:8080/"
        }
      },
      "execution_count": null,
      "outputs": [
        {
          "output_type": "stream",
          "name": "stdout",
          "text": [
            "net: 1.00 \t y: 1\n"
          ]
        }
      ]
    },
    {
      "cell_type": "code",
      "source": [
        "# 예제 2.11 ReLU 함수\n",
        "import numpy as np\n",
        "\n",
        "def relu(net):\n",
        "  return 0 if net < 0 else net\n",
        "\n",
        "x = np.array([1, 2])\n",
        "w = np.array([0, 1])\n",
        "\n",
        "y = relu(np.sum(x*w))\n",
        "print(f'net: {np.dot(w, x)} \\t y: {y}')"
      ],
      "metadata": {
        "id": "SWM8WhUcgH-V",
        "outputId": "b75ba5fa-aabc-43d1-c8bc-db6b81b02551",
        "colab": {
          "base_uri": "https://localhost:8080/"
        }
      },
      "execution_count": null,
      "outputs": [
        {
          "output_type": "stream",
          "name": "stdout",
          "text": [
            "net: 2 \t y: 2\n"
          ]
        }
      ]
    },
    {
      "cell_type": "code",
      "source": [
        "# 예제 2.12(a) Leaky ReLU 함수\n",
        "import numpy as np\n",
        "\n",
        "def leacky_relu(net):\n",
        "  return 0.01*net if net < 0 else net\n",
        "\n",
        "x = np.array([1, 2])\n",
        "w = np.array([-2, -1])\n",
        "\n",
        "y = leacky_relu(np.sum(x*w))\n",
        "print(f' net: {np.dot(w, x)} \\t y: {y}')"
      ],
      "metadata": {
        "colab": {
          "base_uri": "https://localhost:8080/"
        },
        "id": "94saPy10hHrG",
        "outputId": "441e2f7e-74f9-4217-a179-b506a56d4e4b"
      },
      "execution_count": 3,
      "outputs": [
        {
          "output_type": "stream",
          "name": "stdout",
          "text": [
            " net: -4 \t y: -0.04\n"
          ]
        }
      ]
    },
    {
      "cell_type": "code",
      "source": [
        "# 예제 2.12(b) ELU 함수 값\n",
        "import numpy as np\n",
        "\n",
        "def elu(net):\n",
        "  return net if net >= 0 else np.exp(net)-1\n",
        "\n",
        "print(f\"net: -2 \\t y: {elu(-2):.2f}\")\n",
        "print(f\"net: -5 \\t y: {elu(-5):.2f}\")"
      ],
      "metadata": {
        "colab": {
          "base_uri": "https://localhost:8080/"
        },
        "id": "OsreqhYEhlQ1",
        "outputId": "33d791ec-fe7e-4971-8131-981b3a20b789"
      },
      "execution_count": 4,
      "outputs": [
        {
          "output_type": "stream",
          "name": "stdout",
          "text": [
            "net: -2 \t y: -0.86\n",
            "net: -5 \t y: -0.99\n"
          ]
        }
      ]
    },
    {
      "cell_type": "code",
      "source": [
        "# 예제 2.13 sigmoid 함수\n",
        "import numpy as np\n",
        "\n",
        "def sigmoid(net):\n",
        "  return 1/(1+np.exp(-net))\n",
        "\n",
        "x = np.array([1, 2])\n",
        "w = np.array([-1, 1])\n",
        "\n",
        "print(f\"net: {np.dot(w, x)} \\n y: {sigmoid(np.sum(w*x)):.2f}\")"
      ],
      "metadata": {
        "colab": {
          "base_uri": "https://localhost:8080/"
        },
        "id": "gVev8x7liCgM",
        "outputId": "3bfddfe7-94be-4b0c-bf63-31bd1123cd6b"
      },
      "execution_count": 7,
      "outputs": [
        {
          "output_type": "stream",
          "name": "stdout",
          "text": [
            "net: 1 \n",
            " y: 0.73\n"
          ]
        }
      ]
    },
    {
      "cell_type": "code",
      "source": [
        "# 예제 2.14 tanh 함수\n",
        "import numpy as np\n",
        "\n",
        "def tanh(net):\n",
        "  return (np.exp(net) - np.exp(-net)) / (np.exp(net) + np.exp(-net))\n",
        "\n",
        "x = np.array([1, 2])\n",
        "w = np.array([-1, 1])\n",
        "\n",
        "print(f\"net: {np.dot(w, x)} \\n y: {tanh(np.sum(w*x)):.2f}\")"
      ],
      "metadata": {
        "colab": {
          "base_uri": "https://localhost:8080/"
        },
        "id": "BO8Jc5GtijD0",
        "outputId": "daaa6efb-6a2b-488f-9fa4-baf8f4363bef"
      },
      "execution_count": 8,
      "outputs": [
        {
          "output_type": "stream",
          "name": "stdout",
          "text": [
            "net: 1 \n",
            " y: 0.76\n"
          ]
        }
      ]
    },
    {
      "cell_type": "code",
      "source": [
        "# 예제 2.15 softmax 함수\n",
        "import numpy as np\n",
        "\n",
        "def softmax(net):\n",
        "  return np.exp(net) / np.sum(np.exp(net))\n",
        "\n",
        "x = np.array([[1, 1, 0]])\n",
        "w = np.array([[1, 2, 3], [3, 2, 1]])\n",
        "\n",
        "'''\n",
        "net = np.matmul(x, w.T)#.reshape(-1)   # 입력 가중합\n",
        "net: [[3 5]]\n",
        "y_softmax: [[0.12 0.88]]\n",
        "sum of y_softmax: 1.0\n",
        "'''\n",
        "net = np.matmul(x, w.T).reshape(-1)   # 입력 가중합\n",
        "y1 = softmax(net).round(2)\n",
        "\n",
        "print(f\"net: {net}\")\n",
        "print(f\"y_softmax: {y1} \\n sum of y_softmax: {np.sum(y1)}\")"
      ],
      "metadata": {
        "colab": {
          "base_uri": "https://localhost:8080/"
        },
        "id": "8Zho2dC1jcc7",
        "outputId": "67dcb253-6681-480d-9fb6-d81ab889e17e"
      },
      "execution_count": 11,
      "outputs": [
        {
          "output_type": "stream",
          "name": "stdout",
          "text": [
            "net: [3 5]\n",
            "y_softmax: [0.12 0.88] \n",
            " sum of y_softmax: 1.0\n"
          ]
        }
      ]
    }
  ]
}